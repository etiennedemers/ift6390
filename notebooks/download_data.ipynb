{
 "cells": [
  {
   "cell_type": "code",
   "execution_count": 7,
   "id": "80f9f81a-9fb8-4c5c-9fec-cda94c9ba016",
   "metadata": {},
   "outputs": [],
   "source": [
    "import requests\n",
    "import os\n",
    "from tqdm import tqdm"
   ]
  },
  {
   "cell_type": "markdown",
   "id": "9012f0eb-8aca-4aa8-bb0a-12357b61c9e4",
   "metadata": {},
   "source": [
    "## Create directories to store data"
   ]
  },
  {
   "cell_type": "code",
   "execution_count": 8,
   "id": "a1253c0b-63b4-4e5c-ba9b-1cc17f4c16bc",
   "metadata": {},
   "outputs": [],
   "source": [
    "if not os.path.exists('../data'):\n",
    "    os.mkdir('../data')\n",
    "if not os.path.exists('../models'):\n",
    "    os.mkdir('../models')"
   ]
  },
  {
   "cell_type": "code",
   "execution_count": 9,
   "id": "4576bf73-9140-4805-9f5f-06709d0be09d",
   "metadata": {},
   "outputs": [],
   "source": [
    "if not os.path.exists('../data/train'):\n",
    "    os.mkdir('../data/train')\n",
    "if not os.path.exists('../data/test'):\n",
    "    os.mkdir('../data/test')\n",
    "if not os.path.exists('../models/original_baseline_model'):\n",
    "    os.mkdir('../models/original_baseline_model')\n",
    "if not os.path.exists('../models/new_baseline_model'):\n",
    "    os.mkdir('../models/new_baseline_model')"
   ]
  },
  {
   "cell_type": "markdown",
   "id": "6d8c94e7-f38f-4057-9e4c-08f75e490354",
   "metadata": {},
   "source": [
    "## Download train data"
   ]
  },
  {
   "cell_type": "code",
   "execution_count": 10,
   "id": "0aa0c87f-8fc8-479a-a494-35a10c7cd87e",
   "metadata": {},
   "outputs": [],
   "source": [
    "url = 'https://portal.nersc.gov/project/ClimateNet/climatenet_new/train/'\n",
    "r = requests.get(url, allow_redirects=True)"
   ]
  },
  {
   "cell_type": "code",
   "execution_count": 11,
   "id": "80c8111a-6041-469d-9165-bfcb6763dc94",
   "metadata": {},
   "outputs": [],
   "source": [
    "file_names = []\n",
    "for line in tqdm(r.iter_lines()):\n",
    "    if \"data-\" in str(line):\n",
    "        file_names.append((str(line).split('href=\"')[1]).split('\">data')[0])"
   ]
  },
  {
   "cell_type": "code",
   "execution_count": null,
   "id": "12d6f0c7-1b09-49f5-a07c-8921d014d2da",
   "metadata": {
    "pycharm": {
     "is_executing": true
    }
   },
   "outputs": [],
   "source": [
    "for file_name in tqdm(file_names):\n",
    "    url = 'https://portal.nersc.gov/project/ClimateNet/climatenet_new/train/' + file_name\n",
    "    r = requests.get(url, allow_redirects=True)\n",
    "    open('../data/train/' + file_name, 'wb').write(r.content)"
   ]
  },
  {
   "cell_type": "markdown",
   "id": "0da666a6-e825-474c-858b-548e11d8aeb4",
   "metadata": {},
   "source": [
    "## Download test data"
   ]
  },
  {
   "cell_type": "code",
   "execution_count": 13,
   "id": "4be6932d-69d3-48a1-90a8-f8b55de3437d",
   "metadata": {},
   "outputs": [],
   "source": [
    "url = 'https://portal.nersc.gov/project/ClimateNet/climatenet_new/test/'\n",
    "r = requests.get(url, allow_redirects=True)"
   ]
  },
  {
   "cell_type": "code",
   "execution_count": 14,
   "id": "bdb5401b-98a6-41b8-a92f-ac0a6ed06d18",
   "metadata": {},
   "outputs": [],
   "source": [
    "file_names = []\n",
    "for line in tqdm(r.iter_lines()):\n",
    "    if \"data-\" in str(line):\n",
    "        file_names.append((str(line).split('href=\"')[1]).split('\">data')[0])"
   ]
  },
  {
   "cell_type": "code",
   "execution_count": null,
   "id": "c0bcad21-a763-42de-ab55-700636dcb17e",
   "metadata": {
    "pycharm": {
     "is_executing": true
    }
   },
   "outputs": [],
   "source": [
    "for file_name in tqdm(file_names):\n",
    "    url = 'https://portal.nersc.gov/project/ClimateNet/climatenet_new/test/' + file_name\n",
    "    r = requests.get(url, allow_redirects=True)\n",
    "    open('../data/test/' + file_name, 'wb').write(r.content)"
   ]
  },
  {
   "cell_type": "markdown",
   "id": "e6ac301a-c249-4a54-b913-9cfc251a63ac",
   "metadata": {},
   "source": [
    "## Make CSV from subset of (nb_dates) dates for simple model training"
   ]
  },
  {
   "cell_type": "code",
   "execution_count": 16,
   "id": "10d79516-12c7-4679-aeae-2b90bb5981aa",
   "metadata": {},
   "outputs": [],
   "source": [
    "import numpy as np\n",
    "import pandas as pd\n",
    "from os import path, listdir\n",
    "import xarray as xr\n",
    "from tqdm import tqdm\n",
    "\n",
    "def get_data(base_path,out_path,nb_dates):\n",
    "    files = listdir(base_path)\n",
    "    files = np.random.permutation(files)[:nb_dates]\n",
    "    data = []\n",
    "    labels = []\n",
    "    for file in tqdm(files):\n",
    "        file_path = path.join(base_path,file)\n",
    "        file_data = xr.load_dataset(file_path)\n",
    "        data.append(file_data)\n",
    "        labels.append(file_data['LABELS'])\n",
    "    df = xr.concat(data,dim='time').to_dataframe()\n",
    "    df.sort_values('time')\n",
    "    return df.to_csv(out_path)"
   ]
  },
  {
   "cell_type": "code",
   "execution_count": null,
   "id": "9d6bebe6-36a7-44f7-b73e-233dee4bdc17",
   "metadata": {
    "pycharm": {
     "is_executing": true
    }
   },
   "outputs": [],
   "source": [
    "get_data('../data/train','../data/trainSample.csv',3)"
   ]
  },
  {
   "cell_type": "code",
   "execution_count": null,
   "id": "12092d62-c8f9-4e48-9509-265855887b25",
   "metadata": {
    "pycharm": {
     "is_executing": true
    }
   },
   "outputs": [],
   "source": [
    "get_data('../data/test','../data/testSample.csv',1)"
   ]
  },
  {
   "cell_type": "markdown",
   "id": "ffcd2943-751a-4f6d-85c5-d26e6e72b61b",
   "metadata": {},
   "source": [
    "## Download pre-trained models"
   ]
  },
  {
   "cell_type": "code",
   "execution_count": null,
   "id": "c189fa97-63b2-4977-8297-c9c19f6c8838",
   "metadata": {},
   "outputs": [],
   "source": [
    "url = 'https://portal.nersc.gov/project/ClimateNet/climatenet_new/model/config.json'\n",
    "r = requests.get(url, allow_redirects=True)\n",
    "open('../models/original_baseline_model/config.json', 'wb').write(r.content)"
   ]
  },
  {
   "cell_type": "code",
   "execution_count": null,
   "id": "c65d722b-7df0-464a-bfbb-44e6e1603f75",
   "metadata": {
    "pycharm": {
     "is_executing": true
    }
   },
   "outputs": [],
   "source": [
    "url = 'https://portal.nersc.gov/project/ClimateNet/climatenet_new/model/weights.pth'\n",
    "r = requests.get(url, allow_redirects=True)\n",
    "open('../models/original_baseline_model/weights.pth', 'wb').write(r.content)"
   ]
  },
  {
   "cell_type": "code",
   "execution_count": null,
   "id": "5a14ae0b-2f8f-4484-930e-1999d4339c71",
   "metadata": {},
   "outputs": [],
   "source": [
    "url = 'https://portal.nersc.gov/project/ClimateNet/climatenet_new/model/config_new.json'\n",
    "r = requests.get(url, allow_redirects=True)\n",
    "open('../models/new_baseline_model/config.json', 'wb').write(r.content)"
   ]
  },
  {
   "cell_type": "code",
   "execution_count": null,
   "id": "e874a609-f77e-4aed-9f4e-b2f18b04af96",
   "metadata": {
    "pycharm": {
     "is_executing": true
    }
   },
   "outputs": [],
   "source": [
    "url = 'https://portal.nersc.gov/project/ClimateNet/climatenet_new/model/weights_new.pth'\n",
    "r = requests.get(url, allow_redirects=True)\n",
    "open('../models/new_baseline_model/weights.pth', 'wb').write(r.content)"
   ]
  }
 ],
 "metadata": {
  "kernelspec": {
   "display_name": "Python 3 (ipykernel)",
   "language": "python",
   "name": "python3"
  },
  "language_info": {
   "codemirror_mode": {
    "name": "ipython",
    "version": 3
   },
   "file_extension": ".py",
   "mimetype": "text/x-python",
   "name": "python",
   "nbconvert_exporter": "python",
   "pygments_lexer": "ipython3",
   "version": "3.9.13"
  }
 },
 "nbformat": 4,
 "nbformat_minor": 5
}
