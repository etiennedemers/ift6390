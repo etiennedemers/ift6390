{
 "cells": [
  {
   "cell_type": "code",
   "execution_count": 1,
   "id": "80f9f81a-9fb8-4c5c-9fec-cda94c9ba016",
   "metadata": {},
   "outputs": [],
   "source": [
    "import requests\n",
    "import os"
   ]
  },
  {
   "cell_type": "markdown",
   "id": "9012f0eb-8aca-4aa8-bb0a-12357b61c9e4",
   "metadata": {},
   "source": [
    "Create directories to store data"
   ]
  },
  {
   "cell_type": "code",
   "execution_count": 2,
   "id": "4576bf73-9140-4805-9f5f-06709d0be09d",
   "metadata": {},
   "outputs": [],
   "source": [
    "if not os.path.exists('../data/train'):\n",
    "    os.mkdir('../data/train')\n",
    "if not os.path.exists('../data/test'):\n",
    "    os.mkdir('../data/test')\n",
    "if not os.path.exists('../data/baseline_model'):\n",
    "    os.mkdir('../data/baseline_model')"
   ]
  },
  {
   "cell_type": "markdown",
   "id": "6d8c94e7-f38f-4057-9e4c-08f75e490354",
   "metadata": {},
   "source": [
    "Download train data"
   ]
  },
  {
   "cell_type": "code",
   "execution_count": 3,
   "id": "0aa0c87f-8fc8-479a-a494-35a10c7cd87e",
   "metadata": {},
   "outputs": [],
   "source": [
    "url = 'https://portal.nersc.gov/project/ClimateNet/climatenet_new/train/'\n",
    "r = requests.get(url, allow_redirects=True)"
   ]
  },
  {
   "cell_type": "code",
   "execution_count": 4,
   "id": "80c8111a-6041-469d-9165-bfcb6763dc94",
   "metadata": {},
   "outputs": [],
   "source": [
    "file_names = []\n",
    "for line in r.iter_lines():\n",
    "    if \"data-\" in str(line):\n",
    "        file_names.append((str(line).split('href=\"')[1]).split('\">data')[0])"
   ]
  },
  {
   "cell_type": "code",
   "execution_count": 5,
   "id": "12d6f0c7-1b09-49f5-a07c-8921d014d2da",
   "metadata": {},
   "outputs": [],
   "source": [
    "for file_name in file_names:\n",
    "    url = 'https://portal.nersc.gov/project/ClimateNet/climatenet_new/train/' + file_name\n",
    "    r = requests.get(url, allow_redirects=True)\n",
    "    open('../data/train/' + file_name, 'wb').write(r.content)"
   ]
  },
  {
   "cell_type": "markdown",
   "id": "0da666a6-e825-474c-858b-548e11d8aeb4",
   "metadata": {},
   "source": [
    "Download test data"
   ]
  },
  {
   "cell_type": "code",
   "execution_count": 6,
   "id": "4be6932d-69d3-48a1-90a8-f8b55de3437d",
   "metadata": {},
   "outputs": [],
   "source": [
    "url = 'https://portal.nersc.gov/project/ClimateNet/climatenet_new/test/'\n",
    "r = requests.get(url, allow_redirects=True)"
   ]
  },
  {
   "cell_type": "code",
   "execution_count": 7,
   "id": "bdb5401b-98a6-41b8-a92f-ac0a6ed06d18",
   "metadata": {},
   "outputs": [],
   "source": [
    "file_names = []\n",
    "for line in r.iter_lines():\n",
    "    if \"data-\" in str(line):\n",
    "        file_names.append((str(line).split('href=\"')[1]).split('\">data')[0])"
   ]
  },
  {
   "cell_type": "code",
   "execution_count": 8,
   "id": "c0bcad21-a763-42de-ab55-700636dcb17e",
   "metadata": {},
   "outputs": [],
   "source": [
    "for file_name in file_names:\n",
    "    url = 'https://portal.nersc.gov/project/ClimateNet/climatenet_new/test/' + file_name\n",
    "    r = requests.get(url, allow_redirects=True)\n",
    "    open('../data/test/' + file_name, 'wb').write(r.content)"
   ]
  },
  {
   "cell_type": "markdown",
   "id": "ffcd2943-751a-4f6d-85c5-d26e6e72b61b",
   "metadata": {},
   "source": [
    "Download pre-trained model"
   ]
  },
  {
   "cell_type": "code",
   "execution_count": 11,
   "id": "be5cb791-ad93-418f-9a42-4995e8cddab2",
   "metadata": {},
   "outputs": [],
   "source": [
    "for file_name in ['config.json', 'config_new.json', 'weights.pth', 'weights_new.pth']:\n",
    "    url = 'https://portal.nersc.gov/project/ClimateNet/climatenet_new/model/' + file_name\n",
    "    r = requests.get(url, allow_redirects=True)\n",
    "    open('../data/baseline_model/' + file_name, 'wb').write(r.content)"
   ]
  }
 ],
 "metadata": {
  "kernelspec": {
   "display_name": "climatenet",
   "language": "python",
   "name": "climatenet"
  },
  "language_info": {
   "codemirror_mode": {
    "name": "ipython",
    "version": 3
   },
   "file_extension": ".py",
   "mimetype": "text/x-python",
   "name": "python",
   "nbconvert_exporter": "python",
   "pygments_lexer": "ipython3",
   "version": "3.8.5"
  }
 },
 "nbformat": 4,
 "nbformat_minor": 5
}
