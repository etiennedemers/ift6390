{
 "cells": [
  {
   "cell_type": "markdown",
   "id": "1e2ab37b-0bb5-4d76-b9ca-0bfc1b249669",
   "metadata": {},
   "source": [
    "Doesn't give the same results as in the paper, why?"
   ]
  },
  {
   "cell_type": "code",
   "execution_count": 1,
   "id": "5778920a-5a95-4d75-b61f-4ba75826f75c",
   "metadata": {},
   "outputs": [],
   "source": [
    "import sys\n",
    "sys.path.append('../')\n",
    "from os import path\n",
    "\n",
    "from climatenet.utils.data import ClimateDatasetLabeled, ClimateDataset\n",
    "from climatenet.models import CGNet\n",
    "from climatenet.utils.utils import Config\n",
    "from climatenet.track_events import track_events\n",
    "from climatenet.analyze_events import analyze_events\n",
    "from climatenet.visualize_events import visualize_events"
   ]
  },
  {
   "cell_type": "markdown",
   "id": "c5ff1fa6-42bf-4e51-97f9-5bf64d5a2bed",
   "metadata": {},
   "source": [
    "using the config from the repo"
   ]
  },
  {
   "cell_type": "code",
   "execution_count": 2,
   "id": "b80581c7-3fca-43c3-864c-0baa3ef9579c",
   "metadata": {
    "tags": []
   },
   "outputs": [
    {
     "name": "stderr",
     "output_type": "stream",
     "text": [
      "100%|██████████| 8/8 [00:29<00:00,  3.70s/it]"
     ]
    },
    {
     "name": "stdout",
     "output_type": "stream",
     "text": [
      "Evaluation stats:\n",
      "[[13894200. 36760102.        0.]\n",
      " [   65731.   230863.        0.]\n",
      " [  586795.  2431205.        0.]]\n",
      "IOUs:  [0.27080606 0.00584642 0.        ] , mean:  0.09221749494265273\n"
     ]
    },
    {
     "name": "stderr",
     "output_type": "stream",
     "text": [
      "\n"
     ]
    }
   ],
   "source": [
    "config = Config('../config.json')\n",
    "cgnet = CGNet(config)\n",
    "test = ClimateDatasetLabeled('../data/test', config)\n",
    "cgnet.evaluate(test)"
   ]
  },
  {
   "cell_type": "markdown",
   "id": "8b570572-8e60-45b6-a281-b8a02bd68693",
   "metadata": {},
   "source": [
    "using the config from https://portal.nersc.gov/project/ClimateNet/climatenet_new/model/config.json"
   ]
  },
  {
   "cell_type": "code",
   "execution_count": 3,
   "id": "4cf56a8e-b65d-4679-9f04-125c3415fcb4",
   "metadata": {},
   "outputs": [
    {
     "name": "stderr",
     "output_type": "stream",
     "text": [
      "100%|██████████| 8/8 [00:29<00:00,  3.73s/it]"
     ]
    },
    {
     "name": "stdout",
     "output_type": "stream",
     "text": [
      "Evaluation stats:\n",
      "[[5.0654055e+07 2.4700000e+02 0.0000000e+00]\n",
      " [2.9659400e+05 0.0000000e+00 0.0000000e+00]\n",
      " [3.0177880e+06 2.1200000e+02 0.0000000e+00]]\n",
      "IOUs:  [0.93858236 0.         0.        ] , mean:  0.31286078793398037\n"
     ]
    },
    {
     "name": "stderr",
     "output_type": "stream",
     "text": [
      "\n"
     ]
    }
   ],
   "source": [
    "config = Config('../data/baseline_model/config.json')\n",
    "cgnet = CGNet(config)\n",
    "test = ClimateDatasetLabeled('../data/test', config)\n",
    "cgnet.evaluate(test)"
   ]
  }
 ],
 "metadata": {
  "kernelspec": {
   "display_name": "climatenet",
   "language": "python",
   "name": "climatenet"
  },
  "language_info": {
   "codemirror_mode": {
    "name": "ipython",
    "version": 3
   },
   "file_extension": ".py",
   "mimetype": "text/x-python",
   "name": "python",
   "nbconvert_exporter": "python",
   "pygments_lexer": "ipython3",
   "version": "3.8.5"
  }
 },
 "nbformat": 4,
 "nbformat_minor": 5
}
