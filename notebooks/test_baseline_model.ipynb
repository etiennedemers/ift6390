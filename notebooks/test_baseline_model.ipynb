{
 "cells": [
  {
   "cell_type": "code",
   "execution_count": 1,
   "id": "51bb57ac-e82b-43be-a792-430ea4d94fcc",
   "metadata": {},
   "outputs": [],
   "source": [
    "import sys\n",
    "sys.path.append('../')\n",
    "from os import path\n",
    "\n",
    "from climatenet.utils.data import ClimateDatasetLabeled, ClimateDataset\n",
    "from climatenet.models import CGNet\n",
    "from climatenet.utils.utils import Config\n",
    "from climatenet.track_events import track_events\n",
    "from climatenet.analyze_events import analyze_events\n",
    "from climatenet.visualize_events import visualize_events"
   ]
  },
  {
   "cell_type": "code",
   "execution_count": 3,
   "id": "b80581c7-3fca-43c3-864c-0baa3ef9579c",
   "metadata": {
    "tags": []
   },
   "outputs": [],
   "source": [
    "config = Config('../data/baseline_model/config.json')\n",
    "cgnet = CGNet(config)"
   ]
  },
  {
   "cell_type": "code",
   "execution_count": 11,
   "id": "4cf56a8e-b65d-4679-9f04-125c3415fcb4",
   "metadata": {},
   "outputs": [],
   "source": [
    "train = ClimateDatasetLabeled('../data/train', config)\n",
    "test = ClimateDatasetLabeled('../data/test', config)\n",
    "#inference = ClimateDataset('../data/inference', config)"
   ]
  },
  {
   "cell_type": "code",
   "execution_count": 5,
   "id": "5560fe25-8a7e-4263-beee-b12172929fd9",
   "metadata": {},
   "outputs": [],
   "source": [
    "#cgnet.evaluate(train)"
   ]
  },
  {
   "cell_type": "code",
   "execution_count": 6,
   "id": "7f4b898c-6925-450c-a121-60a45e61c32f",
   "metadata": {},
   "outputs": [
    {
     "name": "stderr",
     "output_type": "stream",
     "text": [
      "100%|██████████| 8/8 [00:30<00:00,  3.83s/it]"
     ]
    },
    {
     "name": "stdout",
     "output_type": "stream",
     "text": [
      "Evaluation stats:\n",
      "[[5.0654055e+07 2.4700000e+02 0.0000000e+00]\n",
      " [2.9659400e+05 0.0000000e+00 0.0000000e+00]\n",
      " [3.0177880e+06 2.1200000e+02 0.0000000e+00]]\n",
      "IOUs:  [0.93858236 0.         0.        ] , mean:  0.31286078793398037\n"
     ]
    },
    {
     "name": "stderr",
     "output_type": "stream",
     "text": [
      "\n"
     ]
    }
   ],
   "source": [
    "cgnet.evaluate(test) # doesnt give same resutls as in the paper, why?"
   ]
  }
 ],
 "metadata": {
  "kernelspec": {
   "display_name": "climatenet",
   "language": "python",
   "name": "climatenet"
  },
  "language_info": {
   "codemirror_mode": {
    "name": "ipython",
    "version": 3
   },
   "file_extension": ".py",
   "mimetype": "text/x-python",
   "name": "python",
   "nbconvert_exporter": "python",
   "pygments_lexer": "ipython3",
   "version": "3.8.5"
  }
 },
 "nbformat": 4,
 "nbformat_minor": 5
}
