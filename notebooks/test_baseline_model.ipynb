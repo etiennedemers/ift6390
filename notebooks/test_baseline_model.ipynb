{
 "cells": [
  {
   "cell_type": "markdown",
   "id": "1e2ab37b-0bb5-4d76-b9ca-0bfc1b249669",
   "metadata": {},
   "source": [
    "Doesn't give the same results as in the paper, why?"
   ]
  },
  {
   "cell_type": "code",
   "execution_count": null,
   "id": "5778920a-5a95-4d75-b61f-4ba75826f75c",
   "metadata": {},
   "outputs": [],
   "source": [
    "import sys\n",
    "sys.path.append('../')\n",
    "from os import path\n",
    "\n",
    "from climatenet.utils.data import ClimateDatasetLabeled, ClimateDataset\n",
    "from climatenet.models import CGNet\n",
    "from climatenet.utils.utils import Config\n",
    "from climatenet.track_events import track_events\n",
    "from climatenet.analyze_events import analyze_events\n",
    "from climatenet.visualize_events import visualize_events"
   ]
  },
  {
   "cell_type": "markdown",
   "id": "c5ff1fa6-42bf-4e51-97f9-5bf64d5a2bed",
   "metadata": {},
   "source": [
    "using the config from "
   ]
  },
  {
   "cell_type": "code",
   "execution_count": null,
   "id": "b80581c7-3fca-43c3-864c-0baa3ef9579c",
   "metadata": {
    "tags": []
   },
   "outputs": [],
   "source": [
    "config = Config('../config.json')\n",
    "cgnet = CGNet(config)\n",
    "test = ClimateDatasetLabeled('../data/test', config)\n",
    "cgnet.evaluate(test)"
   ]
  },
  {
   "cell_type": "markdown",
   "id": "8b570572-8e60-45b6-a281-b8a02bd68693",
   "metadata": {},
   "source": [
    "using the config from https://portal.nersc.gov/project/ClimateNet/climatenet_new/model/config.json"
   ]
  },
  {
   "cell_type": "code",
   "execution_count": null,
   "id": "4cf56a8e-b65d-4679-9f04-125c3415fcb4",
   "metadata": {},
   "outputs": [],
   "source": [
    "config = Config('../data/baseline_model/config.json')\n",
    "cgnet = CGNet(config)\n",
    "test = ClimateDatasetLabeled('../data/test', config)\n",
    "cgnet.evaluate(test)"
   ]
  }
 ],
 "metadata": {
  "kernelspec": {
   "display_name": "climatenet",
   "language": "python",
   "name": "climatenet"
  },
  "language_info": {
   "codemirror_mode": {
    "name": "ipython",
    "version": 3
   },
   "file_extension": ".py",
   "mimetype": "text/x-python",
   "name": "python",
   "nbconvert_exporter": "python",
   "pygments_lexer": "ipython3",
   "version": "3.8.5"
  }
 },
 "nbformat": 4,
 "nbformat_minor": 5
}
