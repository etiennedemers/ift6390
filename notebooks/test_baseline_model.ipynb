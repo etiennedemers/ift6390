{
 "cells": [
  {
   "cell_type": "markdown",
   "id": "1e2ab37b-0bb5-4d76-b9ca-0bfc1b249669",
   "metadata": {},
   "source": [
    "Doesn't give the same results as in the paper, why?"
   ]
  },
  {
   "cell_type": "code",
   "execution_count": 1,
   "id": "5778920a-5a95-4d75-b61f-4ba75826f75c",
   "metadata": {},
   "outputs": [],
   "source": [
    "import sys\n",
    "sys.path.append('../')\n",
    "from os import path\n",
    "\n",
    "from climatenet.utils.data import ClimateDatasetLabeled, ClimateDataset\n",
    "from climatenet.models import CGNet\n",
    "from climatenet.utils.utils import Config\n",
    "from climatenet.track_events import track_events\n",
    "from climatenet.analyze_events import analyze_events\n",
    "from climatenet.visualize_events import visualize_events"
   ]
  },
  {
   "cell_type": "markdown",
   "id": "1a0cb905-2ece-4825-8368-b1d82ddcf230",
   "metadata": {},
   "source": [
    "with the baseline model from 2020"
   ]
  },
  {
   "cell_type": "code",
   "execution_count": 2,
   "id": "7b4a2f68-d224-41fa-94d2-356ccb4dce07",
   "metadata": {},
   "outputs": [
    {
     "name": "stderr",
     "output_type": "stream",
     "text": [
      "100%|██████████| 8/8 [00:36<00:00,  4.51s/it]"
     ]
    },
    {
     "name": "stdout",
     "output_type": "stream",
     "text": [
      "Evaluation stats:\n",
      "[[4.8066605e+07 2.5531500e+05 2.3323820e+06]\n",
      " [1.0442700e+05 1.9162400e+05 5.4300000e+02]\n",
      " [8.9359000e+05 2.1151000e+04 2.1032590e+06]]\n",
      "IOUs:  [0.93057981 0.33438732 0.39306456] , mean:  0.552677231299996\n"
     ]
    },
    {
     "name": "stderr",
     "output_type": "stream",
     "text": [
      "\n"
     ]
    }
   ],
   "source": [
    "config = Config('../models/original_baseline_model/config.json')\n",
    "cgnet = CGNet(model_path='../models/original_baseline_model')\n",
    "test = ClimateDatasetLabeled('../data/test', config)\n",
    "cgnet.evaluate(test)"
   ]
  },
  {
   "cell_type": "markdown",
   "id": "c5d1c7b1-b469-4fb9-b7a9-3107fabdca53",
   "metadata": {},
   "source": [
    "with the baseline model from 2022"
   ]
  },
  {
   "cell_type": "code",
   "execution_count": 3,
   "id": "d027c2d8-628e-48e5-b9ad-7d5de58bb6ea",
   "metadata": {},
   "outputs": [
    {
     "ename": "RuntimeError",
     "evalue": "version_ <= kMaxSupportedFileFormatVersion INTERNAL ASSERT FAILED at /tmp/pip-req-build-8yht7tdu/caffe2/serialize/inline_container.cc:132, please report a bug to PyTorch. Attempted to read a PyTorch file with version 3, but the maximum supported version for reading is 2. Your PyTorch installation may be too old. (init at /tmp/pip-req-build-8yht7tdu/caffe2/serialize/inline_container.cc:132)\nframe #0: c10::Error::Error(c10::SourceLocation, std::__cxx11::basic_string<char, std::char_traits<char>, std::allocator<char> > const&) + 0x6d (0x7f21e0aea2ad in /anaconda/envs/climatenet/lib/python3.8/site-packages/torch/lib/libc10.so)\nframe #1: caffe2::serialize::PyTorchStreamReader::init() + 0x25db (0x7f21b2bb7a1b in /anaconda/envs/climatenet/lib/python3.8/site-packages/torch/lib/libtorch.so)\nframe #2: caffe2::serialize::PyTorchStreamReader::PyTorchStreamReader(std::__cxx11::basic_string<char, std::char_traits<char>, std::allocator<char> > const&) + 0x7b (0x7f21b2bb8f2b in /anaconda/envs/climatenet/lib/python3.8/site-packages/torch/lib/libtorch.so)\nframe #3: <unknown function> + 0x6969ce (0x7f21d344f9ce in /anaconda/envs/climatenet/lib/python3.8/site-packages/torch/lib/libtorch_python.so)\nframe #4: <unknown function> + 0x158a39 (0x7f21d2f11a39 in /anaconda/envs/climatenet/lib/python3.8/site-packages/torch/lib/libtorch_python.so)\nframe #5: PyCFunction_Call + 0x56 (0x558d51d4cf76 in /anaconda/envs/climatenet/bin/python)\nframe #6: _PyObject_MakeTpCall + 0x22f (0x558d51d0a85f in /anaconda/envs/climatenet/bin/python)\nframe #7: <unknown function> + 0x18bfdc (0x558d51d58fdc in /anaconda/envs/climatenet/bin/python)\nframe #8: PyVectorcall_Call + 0x71 (0x558d51d0a041 in /anaconda/envs/climatenet/bin/python)\nframe #9: <unknown function> + 0x18c92a (0x558d51d5992a in /anaconda/envs/climatenet/bin/python)\nframe #10: _PyObject_MakeTpCall + 0x1a4 (0x558d51d0a7d4 in /anaconda/envs/climatenet/bin/python)\nframe #11: _PyEval_EvalFrameDefault + 0x4596 (0x558d51d91f56 in /anaconda/envs/climatenet/bin/python)\nframe #12: _PyEval_EvalCodeWithName + 0x659 (0x558d51d57e19 in /anaconda/envs/climatenet/bin/python)\nframe #13: _PyObject_FastCallDict + 0x20c (0x558d51d5948c in /anaconda/envs/climatenet/bin/python)\nframe #14: _PyObject_Call_Prepend + 0x63 (0x558d51d59733 in /anaconda/envs/climatenet/bin/python)\nframe #15: <unknown function> + 0x18c8ca (0x558d51d598ca in /anaconda/envs/climatenet/bin/python)\nframe #16: _PyObject_MakeTpCall + 0x1a4 (0x558d51d0a7d4 in /anaconda/envs/climatenet/bin/python)\nframe #17: _PyEval_EvalFrameDefault + 0x475 (0x558d51d8de35 in /anaconda/envs/climatenet/bin/python)\nframe #18: _PyEval_EvalCodeWithName + 0x2d2 (0x558d51d57a92 in /anaconda/envs/climatenet/bin/python)\nframe #19: _PyFunction_Vectorcall + 0x1e3 (0x558d51d58943 in /anaconda/envs/climatenet/bin/python)\nframe #20: <unknown function> + 0x10077f (0x558d51ccd77f in /anaconda/envs/climatenet/bin/python)\nframe #21: _PyEval_EvalCodeWithName + 0x2d2 (0x558d51d57a92 in /anaconda/envs/climatenet/bin/python)\nframe #22: _PyFunction_Vectorcall + 0x1e3 (0x558d51d58943 in /anaconda/envs/climatenet/bin/python)\nframe #23: _PyObject_FastCallDict + 0x24b (0x558d51d594cb in /anaconda/envs/climatenet/bin/python)\nframe #24: _PyObject_Call_Prepend + 0x63 (0x558d51d59733 in /anaconda/envs/climatenet/bin/python)\nframe #25: <unknown function> + 0x18c8ca (0x558d51d598ca in /anaconda/envs/climatenet/bin/python)\nframe #26: _PyObject_MakeTpCall + 0x1a4 (0x558d51d0a7d4 in /anaconda/envs/climatenet/bin/python)\nframe #27: _PyEval_EvalFrameDefault + 0x11d0 (0x558d51d8eb90 in /anaconda/envs/climatenet/bin/python)\nframe #28: _PyEval_EvalCodeWithName + 0x2d2 (0x558d51d57a92 in /anaconda/envs/climatenet/bin/python)\nframe #29: PyEval_EvalCodeEx + 0x44 (0x558d51d58754 in /anaconda/envs/climatenet/bin/python)\nframe #30: PyEval_EvalCode + 0x1c (0x558d51de6edc in /anaconda/envs/climatenet/bin/python)\nframe #31: <unknown function> + 0x24f083 (0x558d51e1c083 in /anaconda/envs/climatenet/bin/python)\nframe #32: <unknown function> + 0x140699 (0x558d51d0d699 in /anaconda/envs/climatenet/bin/python)\nframe #33: <unknown function> + 0xfeb84 (0x558d51ccbb84 in /anaconda/envs/climatenet/bin/python)\nframe #34: _PyGen_Send + 0x149 (0x558d51d51dc9 in /anaconda/envs/climatenet/bin/python)\nframe #35: _PyEval_EvalFrameDefault + 0x49a3 (0x558d51d92363 in /anaconda/envs/climatenet/bin/python)\nframe #36: _PyGen_Send + 0x149 (0x558d51d51dc9 in /anaconda/envs/climatenet/bin/python)\nframe #37: _PyEval_EvalFrameDefault + 0x49a3 (0x558d51d92363 in /anaconda/envs/climatenet/bin/python)\nframe #38: _PyGen_Send + 0x149 (0x558d51d51dc9 in /anaconda/envs/climatenet/bin/python)\nframe #39: <unknown function> + 0x1701cd (0x558d51d3d1cd in /anaconda/envs/climatenet/bin/python)\nframe #40: <unknown function> + 0x10075e (0x558d51ccd75e in /anaconda/envs/climatenet/bin/python)\nframe #41: _PyFunction_Vectorcall + 0x10b (0x558d51d5886b in /anaconda/envs/climatenet/bin/python)\nframe #42: <unknown function> + 0xfeb84 (0x558d51ccbb84 in /anaconda/envs/climatenet/bin/python)\nframe #43: _PyFunction_Vectorcall + 0x10b (0x558d51d5886b in /anaconda/envs/climatenet/bin/python)\nframe #44: <unknown function> + 0x10075e (0x558d51ccd75e in /anaconda/envs/climatenet/bin/python)\nframe #45: _PyEval_EvalCodeWithName + 0x2d2 (0x558d51d57a92 in /anaconda/envs/climatenet/bin/python)\nframe #46: _PyFunction_Vectorcall + 0x1e3 (0x558d51d58943 in /anaconda/envs/climatenet/bin/python)\nframe #47: <unknown function> + 0x18be79 (0x558d51d58e79 in /anaconda/envs/climatenet/bin/python)\nframe #48: PyVectorcall_Call + 0x71 (0x558d51d0a041 in /anaconda/envs/climatenet/bin/python)\nframe #49: _PyEval_EvalFrameDefault + 0x1fdb (0x558d51d8f99b in /anaconda/envs/climatenet/bin/python)\nframe #50: _PyEval_EvalCodeWithName + 0x659 (0x558d51d57e19 in /anaconda/envs/climatenet/bin/python)\nframe #51: <unknown function> + 0x18bd20 (0x558d51d58d20 in /anaconda/envs/climatenet/bin/python)\nframe #52: <unknown function> + 0x10011a (0x558d51ccd11a in /anaconda/envs/climatenet/bin/python)\nframe #53: _PyGen_Send + 0x149 (0x558d51d51dc9 in /anaconda/envs/climatenet/bin/python)\nframe #54: _PyEval_EvalFrameDefault + 0x49a3 (0x558d51d92363 in /anaconda/envs/climatenet/bin/python)\nframe #55: _PyGen_Send + 0x149 (0x558d51d51dc9 in /anaconda/envs/climatenet/bin/python)\nframe #56: _PyEval_EvalFrameDefault + 0x49a3 (0x558d51d92363 in /anaconda/envs/climatenet/bin/python)\nframe #57: _PyGen_Send + 0x149 (0x558d51d51dc9 in /anaconda/envs/climatenet/bin/python)\nframe #58: _PyEval_EvalFrameDefault + 0x49a3 (0x558d51d92363 in /anaconda/envs/climatenet/bin/python)\nframe #59: _PyGen_Send + 0x149 (0x558d51d51dc9 in /anaconda/envs/climatenet/bin/python)\nframe #60: _PyEval_EvalFrameDefault + 0x49a3 (0x558d51d92363 in /anaconda/envs/climatenet/bin/python)\nframe #61: _PyGen_Send + 0x149 (0x558d51d51dc9 in /anaconda/envs/climatenet/bin/python)\nframe #62: <unknown function> + 0x6edd (0x7f220d02fedd in /anaconda/envs/climatenet/lib/python3.8/lib-dynload/_asyncio.cpython-38-x86_64-linux-gnu.so)\nframe #63: <unknown function> + 0x7718 (0x7f220d030718 in /anaconda/envs/climatenet/lib/python3.8/lib-dynload/_asyncio.cpython-38-x86_64-linux-gnu.so)\n",
     "output_type": "error",
     "traceback": [
      "\u001b[0;31m---------------------------------------------------------------------------\u001b[0m",
      "\u001b[0;31mRuntimeError\u001b[0m                              Traceback (most recent call last)",
      "Cell \u001b[0;32mIn[3], line 2\u001b[0m\n\u001b[1;32m      1\u001b[0m config \u001b[38;5;241m=\u001b[39m Config(\u001b[38;5;124m'\u001b[39m\u001b[38;5;124m../models/new_baseline_model/config.json\u001b[39m\u001b[38;5;124m'\u001b[39m)\n\u001b[0;32m----> 2\u001b[0m cgnet \u001b[38;5;241m=\u001b[39m \u001b[43mCGNet\u001b[49m\u001b[43m(\u001b[49m\u001b[43mmodel_path\u001b[49m\u001b[38;5;241;43m=\u001b[39;49m\u001b[38;5;124;43m'\u001b[39;49m\u001b[38;5;124;43m../models/new_baseline_model\u001b[39;49m\u001b[38;5;124;43m'\u001b[39;49m\u001b[43m)\u001b[49m\n\u001b[1;32m      3\u001b[0m test \u001b[38;5;241m=\u001b[39m ClimateDatasetLabeled(\u001b[38;5;124m'\u001b[39m\u001b[38;5;124m../data/test\u001b[39m\u001b[38;5;124m'\u001b[39m, config)\n\u001b[1;32m      4\u001b[0m cgnet\u001b[38;5;241m.\u001b[39mevaluate(test)\n",
      "File \u001b[0;32m/mnt/batch/tasks/shared/LS_root/mounts/clusters/ift6759/code/ift6759/climatenet/models.py:60\u001b[0m, in \u001b[0;36mCGNet.__init__\u001b[0;34m(self, config, model_path)\u001b[0m\n\u001b[1;32m     58\u001b[0m     \u001b[38;5;28mself\u001b[39m\u001b[38;5;241m.\u001b[39mconfig \u001b[38;5;241m=\u001b[39m Config(path\u001b[38;5;241m.\u001b[39mjoin(model_path, \u001b[38;5;124m'\u001b[39m\u001b[38;5;124mconfig.json\u001b[39m\u001b[38;5;124m'\u001b[39m))\n\u001b[1;32m     59\u001b[0m     \u001b[38;5;28mself\u001b[39m\u001b[38;5;241m.\u001b[39mnetwork \u001b[38;5;241m=\u001b[39m CGNetModule(classes\u001b[38;5;241m=\u001b[39m\u001b[38;5;28mlen\u001b[39m(\u001b[38;5;28mself\u001b[39m\u001b[38;5;241m.\u001b[39mconfig\u001b[38;5;241m.\u001b[39mlabels), channels\u001b[38;5;241m=\u001b[39m\u001b[38;5;28mlen\u001b[39m(\u001b[38;5;28mlist\u001b[39m(\u001b[38;5;28mself\u001b[39m\u001b[38;5;241m.\u001b[39mconfig\u001b[38;5;241m.\u001b[39mfields)))\u001b[38;5;241m.\u001b[39mcuda()\n\u001b[0;32m---> 60\u001b[0m     \u001b[38;5;28mself\u001b[39m\u001b[38;5;241m.\u001b[39mnetwork\u001b[38;5;241m.\u001b[39mload_state_dict(\u001b[43mtorch\u001b[49m\u001b[38;5;241;43m.\u001b[39;49m\u001b[43mload\u001b[49m\u001b[43m(\u001b[49m\u001b[43mpath\u001b[49m\u001b[38;5;241;43m.\u001b[39;49m\u001b[43mjoin\u001b[49m\u001b[43m(\u001b[49m\u001b[43mmodel_path\u001b[49m\u001b[43m,\u001b[49m\u001b[43m \u001b[49m\u001b[38;5;124;43m'\u001b[39;49m\u001b[38;5;124;43mweights.pth\u001b[39;49m\u001b[38;5;124;43m'\u001b[39;49m\u001b[43m)\u001b[49m\u001b[43m)\u001b[49m)\n\u001b[1;32m     61\u001b[0m \u001b[38;5;28;01melse\u001b[39;00m:\n\u001b[1;32m     62\u001b[0m     \u001b[38;5;28;01mraise\u001b[39;00m \u001b[38;5;167;01mValueError\u001b[39;00m(\u001b[38;5;124m'''\u001b[39m\u001b[38;5;124mYou need to specify either a config or a model path.\u001b[39m\u001b[38;5;124m'''\u001b[39m)\n",
      "File \u001b[0;32m/anaconda/envs/climatenet/lib/python3.8/site-packages/torch/serialization.py:527\u001b[0m, in \u001b[0;36mload\u001b[0;34m(f, map_location, pickle_module, **pickle_load_args)\u001b[0m\n\u001b[1;32m    525\u001b[0m \u001b[38;5;28;01mwith\u001b[39;00m _open_file_like(f, \u001b[38;5;124m'\u001b[39m\u001b[38;5;124mrb\u001b[39m\u001b[38;5;124m'\u001b[39m) \u001b[38;5;28;01mas\u001b[39;00m opened_file:\n\u001b[1;32m    526\u001b[0m     \u001b[38;5;28;01mif\u001b[39;00m _is_zipfile(opened_file):\n\u001b[0;32m--> 527\u001b[0m         \u001b[38;5;28;01mwith\u001b[39;00m \u001b[43m_open_zipfile_reader\u001b[49m\u001b[43m(\u001b[49m\u001b[43mf\u001b[49m\u001b[43m)\u001b[49m \u001b[38;5;28;01mas\u001b[39;00m opened_zipfile:\n\u001b[1;32m    528\u001b[0m             \u001b[38;5;28;01mreturn\u001b[39;00m _load(opened_zipfile, map_location, pickle_module, \u001b[38;5;241m*\u001b[39m\u001b[38;5;241m*\u001b[39mpickle_load_args)\n\u001b[1;32m    529\u001b[0m     \u001b[38;5;28;01mreturn\u001b[39;00m _legacy_load(opened_file, map_location, pickle_module, \u001b[38;5;241m*\u001b[39m\u001b[38;5;241m*\u001b[39mpickle_load_args)\n",
      "File \u001b[0;32m/anaconda/envs/climatenet/lib/python3.8/site-packages/torch/serialization.py:224\u001b[0m, in \u001b[0;36m_open_zipfile_reader.__init__\u001b[0;34m(self, name_or_buffer)\u001b[0m\n\u001b[1;32m    223\u001b[0m \u001b[38;5;28;01mdef\u001b[39;00m \u001b[38;5;21m__init__\u001b[39m(\u001b[38;5;28mself\u001b[39m, name_or_buffer):\n\u001b[0;32m--> 224\u001b[0m     \u001b[38;5;28msuper\u001b[39m(_open_zipfile_reader, \u001b[38;5;28mself\u001b[39m)\u001b[38;5;241m.\u001b[39m\u001b[38;5;21m__init__\u001b[39m(\u001b[43mtorch\u001b[49m\u001b[38;5;241;43m.\u001b[39;49m\u001b[43m_C\u001b[49m\u001b[38;5;241;43m.\u001b[39;49m\u001b[43mPyTorchFileReader\u001b[49m\u001b[43m(\u001b[49m\u001b[43mname_or_buffer\u001b[49m\u001b[43m)\u001b[49m)\n",
      "\u001b[0;31mRuntimeError\u001b[0m: version_ <= kMaxSupportedFileFormatVersion INTERNAL ASSERT FAILED at /tmp/pip-req-build-8yht7tdu/caffe2/serialize/inline_container.cc:132, please report a bug to PyTorch. Attempted to read a PyTorch file with version 3, but the maximum supported version for reading is 2. Your PyTorch installation may be too old. (init at /tmp/pip-req-build-8yht7tdu/caffe2/serialize/inline_container.cc:132)\nframe #0: c10::Error::Error(c10::SourceLocation, std::__cxx11::basic_string<char, std::char_traits<char>, std::allocator<char> > const&) + 0x6d (0x7f21e0aea2ad in /anaconda/envs/climatenet/lib/python3.8/site-packages/torch/lib/libc10.so)\nframe #1: caffe2::serialize::PyTorchStreamReader::init() + 0x25db (0x7f21b2bb7a1b in /anaconda/envs/climatenet/lib/python3.8/site-packages/torch/lib/libtorch.so)\nframe #2: caffe2::serialize::PyTorchStreamReader::PyTorchStreamReader(std::__cxx11::basic_string<char, std::char_traits<char>, std::allocator<char> > const&) + 0x7b (0x7f21b2bb8f2b in /anaconda/envs/climatenet/lib/python3.8/site-packages/torch/lib/libtorch.so)\nframe #3: <unknown function> + 0x6969ce (0x7f21d344f9ce in /anaconda/envs/climatenet/lib/python3.8/site-packages/torch/lib/libtorch_python.so)\nframe #4: <unknown function> + 0x158a39 (0x7f21d2f11a39 in /anaconda/envs/climatenet/lib/python3.8/site-packages/torch/lib/libtorch_python.so)\nframe #5: PyCFunction_Call + 0x56 (0x558d51d4cf76 in /anaconda/envs/climatenet/bin/python)\nframe #6: _PyObject_MakeTpCall + 0x22f (0x558d51d0a85f in /anaconda/envs/climatenet/bin/python)\nframe #7: <unknown function> + 0x18bfdc (0x558d51d58fdc in /anaconda/envs/climatenet/bin/python)\nframe #8: PyVectorcall_Call + 0x71 (0x558d51d0a041 in /anaconda/envs/climatenet/bin/python)\nframe #9: <unknown function> + 0x18c92a (0x558d51d5992a in /anaconda/envs/climatenet/bin/python)\nframe #10: _PyObject_MakeTpCall + 0x1a4 (0x558d51d0a7d4 in /anaconda/envs/climatenet/bin/python)\nframe #11: _PyEval_EvalFrameDefault + 0x4596 (0x558d51d91f56 in /anaconda/envs/climatenet/bin/python)\nframe #12: _PyEval_EvalCodeWithName + 0x659 (0x558d51d57e19 in /anaconda/envs/climatenet/bin/python)\nframe #13: _PyObject_FastCallDict + 0x20c (0x558d51d5948c in /anaconda/envs/climatenet/bin/python)\nframe #14: _PyObject_Call_Prepend + 0x63 (0x558d51d59733 in /anaconda/envs/climatenet/bin/python)\nframe #15: <unknown function> + 0x18c8ca (0x558d51d598ca in /anaconda/envs/climatenet/bin/python)\nframe #16: _PyObject_MakeTpCall + 0x1a4 (0x558d51d0a7d4 in /anaconda/envs/climatenet/bin/python)\nframe #17: _PyEval_EvalFrameDefault + 0x475 (0x558d51d8de35 in /anaconda/envs/climatenet/bin/python)\nframe #18: _PyEval_EvalCodeWithName + 0x2d2 (0x558d51d57a92 in /anaconda/envs/climatenet/bin/python)\nframe #19: _PyFunction_Vectorcall + 0x1e3 (0x558d51d58943 in /anaconda/envs/climatenet/bin/python)\nframe #20: <unknown function> + 0x10077f (0x558d51ccd77f in /anaconda/envs/climatenet/bin/python)\nframe #21: _PyEval_EvalCodeWithName + 0x2d2 (0x558d51d57a92 in /anaconda/envs/climatenet/bin/python)\nframe #22: _PyFunction_Vectorcall + 0x1e3 (0x558d51d58943 in /anaconda/envs/climatenet/bin/python)\nframe #23: _PyObject_FastCallDict + 0x24b (0x558d51d594cb in /anaconda/envs/climatenet/bin/python)\nframe #24: _PyObject_Call_Prepend + 0x63 (0x558d51d59733 in /anaconda/envs/climatenet/bin/python)\nframe #25: <unknown function> + 0x18c8ca (0x558d51d598ca in /anaconda/envs/climatenet/bin/python)\nframe #26: _PyObject_MakeTpCall + 0x1a4 (0x558d51d0a7d4 in /anaconda/envs/climatenet/bin/python)\nframe #27: _PyEval_EvalFrameDefault + 0x11d0 (0x558d51d8eb90 in /anaconda/envs/climatenet/bin/python)\nframe #28: _PyEval_EvalCodeWithName + 0x2d2 (0x558d51d57a92 in /anaconda/envs/climatenet/bin/python)\nframe #29: PyEval_EvalCodeEx + 0x44 (0x558d51d58754 in /anaconda/envs/climatenet/bin/python)\nframe #30: PyEval_EvalCode + 0x1c (0x558d51de6edc in /anaconda/envs/climatenet/bin/python)\nframe #31: <unknown function> + 0x24f083 (0x558d51e1c083 in /anaconda/envs/climatenet/bin/python)\nframe #32: <unknown function> + 0x140699 (0x558d51d0d699 in /anaconda/envs/climatenet/bin/python)\nframe #33: <unknown function> + 0xfeb84 (0x558d51ccbb84 in /anaconda/envs/climatenet/bin/python)\nframe #34: _PyGen_Send + 0x149 (0x558d51d51dc9 in /anaconda/envs/climatenet/bin/python)\nframe #35: _PyEval_EvalFrameDefault + 0x49a3 (0x558d51d92363 in /anaconda/envs/climatenet/bin/python)\nframe #36: _PyGen_Send + 0x149 (0x558d51d51dc9 in /anaconda/envs/climatenet/bin/python)\nframe #37: _PyEval_EvalFrameDefault + 0x49a3 (0x558d51d92363 in /anaconda/envs/climatenet/bin/python)\nframe #38: _PyGen_Send + 0x149 (0x558d51d51dc9 in /anaconda/envs/climatenet/bin/python)\nframe #39: <unknown function> + 0x1701cd (0x558d51d3d1cd in /anaconda/envs/climatenet/bin/python)\nframe #40: <unknown function> + 0x10075e (0x558d51ccd75e in /anaconda/envs/climatenet/bin/python)\nframe #41: _PyFunction_Vectorcall + 0x10b (0x558d51d5886b in /anaconda/envs/climatenet/bin/python)\nframe #42: <unknown function> + 0xfeb84 (0x558d51ccbb84 in /anaconda/envs/climatenet/bin/python)\nframe #43: _PyFunction_Vectorcall + 0x10b (0x558d51d5886b in /anaconda/envs/climatenet/bin/python)\nframe #44: <unknown function> + 0x10075e (0x558d51ccd75e in /anaconda/envs/climatenet/bin/python)\nframe #45: _PyEval_EvalCodeWithName + 0x2d2 (0x558d51d57a92 in /anaconda/envs/climatenet/bin/python)\nframe #46: _PyFunction_Vectorcall + 0x1e3 (0x558d51d58943 in /anaconda/envs/climatenet/bin/python)\nframe #47: <unknown function> + 0x18be79 (0x558d51d58e79 in /anaconda/envs/climatenet/bin/python)\nframe #48: PyVectorcall_Call + 0x71 (0x558d51d0a041 in /anaconda/envs/climatenet/bin/python)\nframe #49: _PyEval_EvalFrameDefault + 0x1fdb (0x558d51d8f99b in /anaconda/envs/climatenet/bin/python)\nframe #50: _PyEval_EvalCodeWithName + 0x659 (0x558d51d57e19 in /anaconda/envs/climatenet/bin/python)\nframe #51: <unknown function> + 0x18bd20 (0x558d51d58d20 in /anaconda/envs/climatenet/bin/python)\nframe #52: <unknown function> + 0x10011a (0x558d51ccd11a in /anaconda/envs/climatenet/bin/python)\nframe #53: _PyGen_Send + 0x149 (0x558d51d51dc9 in /anaconda/envs/climatenet/bin/python)\nframe #54: _PyEval_EvalFrameDefault + 0x49a3 (0x558d51d92363 in /anaconda/envs/climatenet/bin/python)\nframe #55: _PyGen_Send + 0x149 (0x558d51d51dc9 in /anaconda/envs/climatenet/bin/python)\nframe #56: _PyEval_EvalFrameDefault + 0x49a3 (0x558d51d92363 in /anaconda/envs/climatenet/bin/python)\nframe #57: _PyGen_Send + 0x149 (0x558d51d51dc9 in /anaconda/envs/climatenet/bin/python)\nframe #58: _PyEval_EvalFrameDefault + 0x49a3 (0x558d51d92363 in /anaconda/envs/climatenet/bin/python)\nframe #59: _PyGen_Send + 0x149 (0x558d51d51dc9 in /anaconda/envs/climatenet/bin/python)\nframe #60: _PyEval_EvalFrameDefault + 0x49a3 (0x558d51d92363 in /anaconda/envs/climatenet/bin/python)\nframe #61: _PyGen_Send + 0x149 (0x558d51d51dc9 in /anaconda/envs/climatenet/bin/python)\nframe #62: <unknown function> + 0x6edd (0x7f220d02fedd in /anaconda/envs/climatenet/lib/python3.8/lib-dynload/_asyncio.cpython-38-x86_64-linux-gnu.so)\nframe #63: <unknown function> + 0x7718 (0x7f220d030718 in /anaconda/envs/climatenet/lib/python3.8/lib-dynload/_asyncio.cpython-38-x86_64-linux-gnu.so)\n"
     ]
    }
   ],
   "source": [
    "config = Config('../models/new_baseline_model/config.json')\n",
    "cgnet = CGNet(model_path='../models/new_baseline_model')\n",
    "test = ClimateDatasetLabeled('../data/test', config)\n",
    "cgnet.evaluate(test)"
   ]
  }
 ],
 "metadata": {
  "kernelspec": {
   "display_name": "climatenet",
   "language": "python",
   "name": "climatenet"
  },
  "language_info": {
   "codemirror_mode": {
    "name": "ipython",
    "version": 3
   },
   "file_extension": ".py",
   "mimetype": "text/x-python",
   "name": "python",
   "nbconvert_exporter": "python",
   "pygments_lexer": "ipython3",
   "version": "3.8.5"
  }
 },
 "nbformat": 4,
 "nbformat_minor": 5
}
